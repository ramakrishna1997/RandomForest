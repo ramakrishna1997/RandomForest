{
 "cells": [
  {
   "cell_type": "code",
   "execution_count": 1,
   "id": "8608a7e6",
   "metadata": {},
   "outputs": [],
   "source": [
    "import pandas as pd"
   ]
  },
  {
   "cell_type": "code",
   "execution_count": 3,
   "id": "d533faaf",
   "metadata": {},
   "outputs": [],
   "source": [
    "from sklearn import linear_model\n",
    "import numpy as np\n",
    "from sklearn import preprocessing\n",
    "from sklearn.metrics import accuracy_score,confusion_matrix,ConfusionMatrixDisplay\n",
    "import matplotlib.pyplot as plt"
   ]
  },
  {
   "cell_type": "code",
   "execution_count": 4,
   "id": "7af7cf69",
   "metadata": {},
   "outputs": [],
   "source": [
    "data=pd.read_csv(\"Sample-data-Titanic-Survival.csv\")"
   ]
  },
  {
   "cell_type": "code",
   "execution_count": 5,
   "id": "02e99cfe",
   "metadata": {},
   "outputs": [
    {
     "data": {
      "text/html": [
       "<div>\n",
       "<style scoped>\n",
       "    .dataframe tbody tr th:only-of-type {\n",
       "        vertical-align: middle;\n",
       "    }\n",
       "\n",
       "    .dataframe tbody tr th {\n",
       "        vertical-align: top;\n",
       "    }\n",
       "\n",
       "    .dataframe thead th {\n",
       "        text-align: right;\n",
       "    }\n",
       "</style>\n",
       "<table border=\"1\" class=\"dataframe\">\n",
       "  <thead>\n",
       "    <tr style=\"text-align: right;\">\n",
       "      <th></th>\n",
       "      <th>Class</th>\n",
       "      <th>Age</th>\n",
       "      <th>Sex</th>\n",
       "      <th>SurvivalStatus</th>\n",
       "    </tr>\n",
       "  </thead>\n",
       "  <tbody>\n",
       "    <tr>\n",
       "      <th>0</th>\n",
       "      <td>1st</td>\n",
       "      <td>29</td>\n",
       "      <td>female</td>\n",
       "      <td>survived</td>\n",
       "    </tr>\n",
       "    <tr>\n",
       "      <th>1</th>\n",
       "      <td>1st</td>\n",
       "      <td>1</td>\n",
       "      <td>male</td>\n",
       "      <td>survived</td>\n",
       "    </tr>\n",
       "    <tr>\n",
       "      <th>2</th>\n",
       "      <td>1st</td>\n",
       "      <td>2</td>\n",
       "      <td>female</td>\n",
       "      <td>died</td>\n",
       "    </tr>\n",
       "    <tr>\n",
       "      <th>3</th>\n",
       "      <td>1st</td>\n",
       "      <td>30</td>\n",
       "      <td>male</td>\n",
       "      <td>died</td>\n",
       "    </tr>\n",
       "    <tr>\n",
       "      <th>4</th>\n",
       "      <td>1st</td>\n",
       "      <td>25</td>\n",
       "      <td>female</td>\n",
       "      <td>died</td>\n",
       "    </tr>\n",
       "    <tr>\n",
       "      <th>...</th>\n",
       "      <td>...</td>\n",
       "      <td>...</td>\n",
       "      <td>...</td>\n",
       "      <td>...</td>\n",
       "    </tr>\n",
       "    <tr>\n",
       "      <th>1304</th>\n",
       "      <td>3rd</td>\n",
       "      <td>15</td>\n",
       "      <td>female</td>\n",
       "      <td>died</td>\n",
       "    </tr>\n",
       "    <tr>\n",
       "      <th>1305</th>\n",
       "      <td>3rd</td>\n",
       "      <td>Missing[\"Not Available\"]</td>\n",
       "      <td>female</td>\n",
       "      <td>died</td>\n",
       "    </tr>\n",
       "    <tr>\n",
       "      <th>1306</th>\n",
       "      <td>3rd</td>\n",
       "      <td>27</td>\n",
       "      <td>male</td>\n",
       "      <td>died</td>\n",
       "    </tr>\n",
       "    <tr>\n",
       "      <th>1307</th>\n",
       "      <td>3rd</td>\n",
       "      <td>27</td>\n",
       "      <td>male</td>\n",
       "      <td>died</td>\n",
       "    </tr>\n",
       "    <tr>\n",
       "      <th>1308</th>\n",
       "      <td>3rd</td>\n",
       "      <td>29</td>\n",
       "      <td>male</td>\n",
       "      <td>died</td>\n",
       "    </tr>\n",
       "  </tbody>\n",
       "</table>\n",
       "<p>1309 rows × 4 columns</p>\n",
       "</div>"
      ],
      "text/plain": [
       "     Class                       Age     Sex SurvivalStatus\n",
       "0      1st                        29  female       survived\n",
       "1      1st                         1    male       survived\n",
       "2      1st                         2  female           died\n",
       "3      1st                        30    male           died\n",
       "4      1st                        25  female           died\n",
       "...    ...                       ...     ...            ...\n",
       "1304   3rd                        15  female           died\n",
       "1305   3rd  Missing[\"Not Available\"]  female           died\n",
       "1306   3rd                        27    male           died\n",
       "1307   3rd                        27    male           died\n",
       "1308   3rd                        29    male           died\n",
       "\n",
       "[1309 rows x 4 columns]"
      ]
     },
     "execution_count": 5,
     "metadata": {},
     "output_type": "execute_result"
    }
   ],
   "source": [
    "data"
   ]
  },
  {
   "cell_type": "code",
   "execution_count": 6,
   "id": "efdcc129",
   "metadata": {},
   "outputs": [],
   "source": [
    "data.drop(data.index[(data['Age']==\"Missing[\\\"Not Available\\\"]\")],axis=0,inplace=True)"
   ]
  },
  {
   "cell_type": "code",
   "execution_count": 7,
   "id": "10697933",
   "metadata": {},
   "outputs": [
    {
     "data": {
      "text/html": [
       "<div>\n",
       "<style scoped>\n",
       "    .dataframe tbody tr th:only-of-type {\n",
       "        vertical-align: middle;\n",
       "    }\n",
       "\n",
       "    .dataframe tbody tr th {\n",
       "        vertical-align: top;\n",
       "    }\n",
       "\n",
       "    .dataframe thead th {\n",
       "        text-align: right;\n",
       "    }\n",
       "</style>\n",
       "<table border=\"1\" class=\"dataframe\">\n",
       "  <thead>\n",
       "    <tr style=\"text-align: right;\">\n",
       "      <th></th>\n",
       "      <th>Class</th>\n",
       "      <th>Age</th>\n",
       "      <th>Sex</th>\n",
       "      <th>SurvivalStatus</th>\n",
       "    </tr>\n",
       "  </thead>\n",
       "  <tbody>\n",
       "    <tr>\n",
       "      <th>0</th>\n",
       "      <td>1st</td>\n",
       "      <td>29</td>\n",
       "      <td>female</td>\n",
       "      <td>survived</td>\n",
       "    </tr>\n",
       "    <tr>\n",
       "      <th>1</th>\n",
       "      <td>1st</td>\n",
       "      <td>1</td>\n",
       "      <td>male</td>\n",
       "      <td>survived</td>\n",
       "    </tr>\n",
       "    <tr>\n",
       "      <th>2</th>\n",
       "      <td>1st</td>\n",
       "      <td>2</td>\n",
       "      <td>female</td>\n",
       "      <td>died</td>\n",
       "    </tr>\n",
       "    <tr>\n",
       "      <th>3</th>\n",
       "      <td>1st</td>\n",
       "      <td>30</td>\n",
       "      <td>male</td>\n",
       "      <td>died</td>\n",
       "    </tr>\n",
       "    <tr>\n",
       "      <th>4</th>\n",
       "      <td>1st</td>\n",
       "      <td>25</td>\n",
       "      <td>female</td>\n",
       "      <td>died</td>\n",
       "    </tr>\n",
       "    <tr>\n",
       "      <th>...</th>\n",
       "      <td>...</td>\n",
       "      <td>...</td>\n",
       "      <td>...</td>\n",
       "      <td>...</td>\n",
       "    </tr>\n",
       "    <tr>\n",
       "      <th>1301</th>\n",
       "      <td>3rd</td>\n",
       "      <td>46</td>\n",
       "      <td>male</td>\n",
       "      <td>died</td>\n",
       "    </tr>\n",
       "    <tr>\n",
       "      <th>1304</th>\n",
       "      <td>3rd</td>\n",
       "      <td>15</td>\n",
       "      <td>female</td>\n",
       "      <td>died</td>\n",
       "    </tr>\n",
       "    <tr>\n",
       "      <th>1306</th>\n",
       "      <td>3rd</td>\n",
       "      <td>27</td>\n",
       "      <td>male</td>\n",
       "      <td>died</td>\n",
       "    </tr>\n",
       "    <tr>\n",
       "      <th>1307</th>\n",
       "      <td>3rd</td>\n",
       "      <td>27</td>\n",
       "      <td>male</td>\n",
       "      <td>died</td>\n",
       "    </tr>\n",
       "    <tr>\n",
       "      <th>1308</th>\n",
       "      <td>3rd</td>\n",
       "      <td>29</td>\n",
       "      <td>male</td>\n",
       "      <td>died</td>\n",
       "    </tr>\n",
       "  </tbody>\n",
       "</table>\n",
       "<p>1046 rows × 4 columns</p>\n",
       "</div>"
      ],
      "text/plain": [
       "     Class Age     Sex SurvivalStatus\n",
       "0      1st  29  female       survived\n",
       "1      1st   1    male       survived\n",
       "2      1st   2  female           died\n",
       "3      1st  30    male           died\n",
       "4      1st  25  female           died\n",
       "...    ...  ..     ...            ...\n",
       "1301   3rd  46    male           died\n",
       "1304   3rd  15  female           died\n",
       "1306   3rd  27    male           died\n",
       "1307   3rd  27    male           died\n",
       "1308   3rd  29    male           died\n",
       "\n",
       "[1046 rows x 4 columns]"
      ]
     },
     "execution_count": 7,
     "metadata": {},
     "output_type": "execute_result"
    }
   ],
   "source": [
    "data"
   ]
  },
  {
   "cell_type": "code",
   "execution_count": 8,
   "id": "1f278ab4",
   "metadata": {},
   "outputs": [],
   "source": [
    "encoder=preprocessing.LabelEncoder()"
   ]
  },
  {
   "cell_type": "code",
   "execution_count": 11,
   "id": "be9a6f4b",
   "metadata": {},
   "outputs": [],
   "source": [
    "data['Class']=encoder.fit_transform(data['Class'])\n",
    "data['Sex']=encoder.fit_transform(data['Class'])\n",
    "data['SurvivalStatus']=encoder.fit_transform(data['SurvivalStatus'])"
   ]
  },
  {
   "cell_type": "code",
   "execution_count": 14,
   "id": "93ee3a3c",
   "metadata": {},
   "outputs": [],
   "source": [
    "x=data.values[:,0:3]\n",
    "y=data.values[:,3]"
   ]
  },
  {
   "cell_type": "code",
   "execution_count": 18,
   "id": "fdcf3535",
   "metadata": {},
   "outputs": [
    {
     "data": {
      "text/plain": [
       "2"
      ]
     },
     "execution_count": 18,
     "metadata": {},
     "output_type": "execute_result"
    }
   ],
   "source": [
    "x.ndim"
   ]
  },
  {
   "cell_type": "code",
   "execution_count": 19,
   "id": "2e70fa49",
   "metadata": {},
   "outputs": [
    {
     "data": {
      "text/plain": [
       "(1046, 3)"
      ]
     },
     "execution_count": 19,
     "metadata": {},
     "output_type": "execute_result"
    }
   ],
   "source": [
    "x.shape"
   ]
  },
  {
   "cell_type": "code",
   "execution_count": 20,
   "id": "5815e845",
   "metadata": {},
   "outputs": [],
   "source": [
    "from sklearn.model_selection import train_test_split"
   ]
  },
  {
   "cell_type": "code",
   "execution_count": 23,
   "id": "87b66ee1",
   "metadata": {},
   "outputs": [],
   "source": [
    "X_train, X_test, y_train, y_test = train_test_split(x, y, test_size=0.33, random_state=42)"
   ]
  },
  {
   "cell_type": "code",
   "execution_count": 24,
   "id": "65ce5638",
   "metadata": {},
   "outputs": [
    {
     "data": {
      "text/plain": [
       "array([[2, '14', 2],\n",
       "       [1, '31', 1],\n",
       "       [1, '40', 1],\n",
       "       ...,\n",
       "       [0, '19', 0],\n",
       "       [2, '27', 2],\n",
       "       [2, '33', 2]], dtype=object)"
      ]
     },
     "execution_count": 24,
     "metadata": {},
     "output_type": "execute_result"
    }
   ],
   "source": [
    "X_train"
   ]
  },
  {
   "cell_type": "code",
   "execution_count": 25,
   "id": "64681061",
   "metadata": {},
   "outputs": [],
   "source": [
    "X_train=X_train.astype('int')"
   ]
  },
  {
   "cell_type": "code",
   "execution_count": 26,
   "id": "f0f3dd3b",
   "metadata": {},
   "outputs": [],
   "source": [
    "y_train=y_train.astype('int')"
   ]
  },
  {
   "cell_type": "code",
   "execution_count": 27,
   "id": "1a7e5817",
   "metadata": {},
   "outputs": [],
   "source": [
    "log=linear_model.LogisticRegression()"
   ]
  },
  {
   "cell_type": "code",
   "execution_count": 28,
   "id": "6efa1d9b",
   "metadata": {},
   "outputs": [
    {
     "data": {
      "text/plain": [
       "LogisticRegression()"
      ]
     },
     "execution_count": 28,
     "metadata": {},
     "output_type": "execute_result"
    }
   ],
   "source": [
    "log.fit(X_train,y_train)"
   ]
  },
  {
   "cell_type": "code",
   "execution_count": 36,
   "id": "549de9e5",
   "metadata": {},
   "outputs": [],
   "source": [
    "ypred=log.predict(X_test)"
   ]
  },
  {
   "cell_type": "code",
   "execution_count": 37,
   "id": "1d7f9437",
   "metadata": {},
   "outputs": [
    {
     "name": "stdout",
     "output_type": "stream",
     "text": [
      "[0 1 0 0 0 0 0 1 0 0 0 1 0 0 1 1 0 0 0 0 0 1 0 1 1 0 1 0 0 0 0 0 1 0 0 0 1\n",
      " 1 0 0 0 1 0 0 0 0 1 1 0 1 0 0 0 0 1 0 0 0 0 0 0 1 0 0 0 0 1 1 0 1 0 0 1 0\n",
      " 1 0 1 0 0 0 0 0 1 0 0 0 1 1 1 0 0 0 0 0 0 1 0 1 0 1 0 0 1 1 0 0 1 0 1 0 1\n",
      " 0 1 0 1 0 0 0 0 0 0 0 0 1 0 1 0 1 0 1 0 0 0 0 0 1 0 0 0 1 0 1 0 0 0 0 1 0\n",
      " 0 1 0 0 0 0 0 0 0 1 0 0 1 0 1 0 0 0 1 0 0 0 0 0 0 0 1 0 0 0 0 0 0 0 0 0 1\n",
      " 0 1 0 1 1 0 0 0 0 0 0 0 0 0 1 1 0 1 0 0 0 0 0 0 0 1 0 1 1 0 1 0 0 0 0 0 0\n",
      " 0 0 0 1 0 0 1 0 0 0 0 1 0 0 1 0 0 0 1 0 1 0 0 1 1 0 0 0 0 1 0 0 0 0 1 0 0\n",
      " 1 1 1 0 0 0 0 0 0 1 0 0 1 0 0 1 0 0 0 1 0 0 0 0 0 0 1 1 0 1 1 0 0 1 1 0 0\n",
      " 1 0 0 0 0 0 0 0 1 1 0 1 1 0 1 0 1 0 0 0 0 0 0 0 1 0 0 0 0 0 0 0 1 0 1 0 0\n",
      " 0 1 1 1 0 0 0 1 0 0 0 0 0]\n"
     ]
    }
   ],
   "source": [
    "print(ypred)"
   ]
  },
  {
   "cell_type": "code",
   "execution_count": 35,
   "id": "48b38f18",
   "metadata": {},
   "outputs": [],
   "source": [
    "y_test=y_test.astype('int')"
   ]
  },
  {
   "cell_type": "code",
   "execution_count": 38,
   "id": "fce582bb",
   "metadata": {},
   "outputs": [],
   "source": [
    "cm=confusion_matrix(y_test,ypred)"
   ]
  },
  {
   "cell_type": "code",
   "execution_count": 39,
   "id": "32269b14",
   "metadata": {},
   "outputs": [
    {
     "data": {
      "text/plain": [
       "array([[163,  34],\n",
       "       [ 83,  66]], dtype=int64)"
      ]
     },
     "execution_count": 39,
     "metadata": {},
     "output_type": "execute_result"
    }
   ],
   "source": [
    "cm"
   ]
  },
  {
   "cell_type": "code",
   "execution_count": 40,
   "id": "20dc8387",
   "metadata": {},
   "outputs": [],
   "source": [
    "ac=accuracy_score(y_test,ypred)"
   ]
  },
  {
   "cell_type": "code",
   "execution_count": 42,
   "id": "8e6e4cff",
   "metadata": {},
   "outputs": [
    {
     "data": {
      "text/plain": [
       "66.1849710982659"
      ]
     },
     "execution_count": 42,
     "metadata": {},
     "output_type": "execute_result"
    }
   ],
   "source": [
    "ac*100"
   ]
  },
  {
   "cell_type": "code",
   "execution_count": 43,
   "id": "5f7f6277",
   "metadata": {},
   "outputs": [
    {
     "data": {
      "text/plain": [
       "<sklearn.metrics._plot.confusion_matrix.ConfusionMatrixDisplay at 0x1a0b395df70>"
      ]
     },
     "execution_count": 43,
     "metadata": {},
     "output_type": "execute_result"
    },
    {
     "data": {
      "image/png": "[encoded data removed]",
      "text/plain": [
       "<Figure size 640x480 with 2 Axes>"
      ]
     },
     "metadata": {},
     "output_type": "display_data"
    }
   ],
   "source": [
    "cm_matrix=ConfusionMatrixDisplay(confusion_matrix=cm)\n",
    "cm_matrix.plot()"
   ]
  },
  {
   "cell_type": "code",
   "execution_count": null,
   "id": "7dcd377e",
   "metadata": {},
   "outputs": [],
   "source": []
  }
 ],
 "metadata": {
  "kernelspec": {
   "display_name": "Python 3 (ipykernel)",
   "language": "python",
   "name": "python3"
  },
  "language_info": {
   "codemirror_mode": {
    "name": "ipython",
    "version": 3
   },
   "file_extension": ".py",
   "mimetype": "text/x-python",
   "name": "python",
   "nbconvert_exporter": "python",
   "pygments_lexer": "ipython3",
   "version": "3.9.13"
  }
 },
 "nbformat": 4,
 "nbformat_minor": 5
}
